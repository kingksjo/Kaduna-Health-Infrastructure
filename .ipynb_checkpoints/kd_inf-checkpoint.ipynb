{
 "cells": [
  {
   "cell_type": "markdown",
   "metadata": {},
   "source": [
    "# Kaduna infrastructure Analysis"
   ]
  },
  {
   "cell_type": "markdown",
   "metadata": {},
   "source": [
    "### **Goal**\n",
    "\n",
    "#### To report the infrastructure needs of the state if any"
   ]
  },
  {
   "cell_type": "code",
   "execution_count": 124,
   "metadata": {},
   "outputs": [],
   "source": [
    "import numpy as np\n",
    "import statistics\n",
    "import pandas as pd\n",
    "import matplotlib.pyplot as plt\n",
    "import seaborn as sns"
   ]
  },
  {
   "cell_type": "code",
   "execution_count": 125,
   "metadata": {},
   "outputs": [],
   "source": [
    "data = pd.read_excel(\"data (3).xlsx\")"
   ]
  },
  {
   "cell_type": "code",
   "execution_count": 126,
   "metadata": {},
   "outputs": [
    {
     "data": {
      "text/html": [
       "<div>\n",
       "<style scoped>\n",
       "    .dataframe tbody tr th:only-of-type {\n",
       "        vertical-align: middle;\n",
       "    }\n",
       "\n",
       "    .dataframe tbody tr th {\n",
       "        vertical-align: top;\n",
       "    }\n",
       "\n",
       "    .dataframe thead th {\n",
       "        text-align: right;\n",
       "    }\n",
       "</style>\n",
       "<table border=\"1\" class=\"dataframe\">\n",
       "  <thead>\n",
       "    <tr style=\"text-align: right;\">\n",
       "      <th></th>\n",
       "      <th>state</th>\n",
       "      <th>lga</th>\n",
       "      <th>ward</th>\n",
       "      <th>uid</th>\n",
       "      <th>facility_code</th>\n",
       "      <th>facility_name</th>\n",
       "      <th>start_date</th>\n",
       "      <th>ownership</th>\n",
       "      <th>facility_level</th>\n",
       "      <th>longitude</th>\n",
       "      <th>latitude</th>\n",
       "      <th>operation_status</th>\n",
       "      <th>registration_status</th>\n",
       "      <th>license_status</th>\n",
       "      <th>created</th>\n",
       "      <th>last_updated</th>\n",
       "    </tr>\n",
       "  </thead>\n",
       "  <tbody>\n",
       "    <tr>\n",
       "      <th>0</th>\n",
       "      <td>Kaduna</td>\n",
       "      <td>Birnin Gwari</td>\n",
       "      <td>Magajin Gari 2</td>\n",
       "      <td>84313191</td>\n",
       "      <td>18/01/1/1/2/0001</td>\n",
       "      <td>Alumma Nursing And Maternity Home</td>\n",
       "      <td>2000-01-01 00:00:00</td>\n",
       "      <td>Private</td>\n",
       "      <td>Primary</td>\n",
       "      <td>6.64095</td>\n",
       "      <td>10.66508</td>\n",
       "      <td>Operational</td>\n",
       "      <td>Registered</td>\n",
       "      <td>Licensed</td>\n",
       "      <td>2018-01-01 01:01:01</td>\n",
       "      <td>2019-10-18 08:53:26</td>\n",
       "    </tr>\n",
       "    <tr>\n",
       "      <th>1</th>\n",
       "      <td>Kaduna</td>\n",
       "      <td>Birnin Gwari</td>\n",
       "      <td>Magajin Gari 2</td>\n",
       "      <td>45229535</td>\n",
       "      <td>18/01/1/1/1/0052</td>\n",
       "      <td>Anguwan Haladu Priamry Health Centre</td>\n",
       "      <td>1972-01-01 00:00:00</td>\n",
       "      <td>Public</td>\n",
       "      <td>Primary</td>\n",
       "      <td>6.53769</td>\n",
       "      <td>10.66777</td>\n",
       "      <td>Operational</td>\n",
       "      <td>Registered</td>\n",
       "      <td>Licensed</td>\n",
       "      <td>2018-01-02 01:01:01</td>\n",
       "      <td>2019-10-18 08:54:15</td>\n",
       "    </tr>\n",
       "    <tr>\n",
       "      <th>2</th>\n",
       "      <td>Kaduna</td>\n",
       "      <td>Birnin Gwari</td>\n",
       "      <td>Magajin Gari 1</td>\n",
       "      <td>87588064</td>\n",
       "      <td>18/01/1/1/1/0002</td>\n",
       "      <td>Anguwan Shitu Health Clinic</td>\n",
       "      <td>2000-01-01 00:00:00</td>\n",
       "      <td>Public</td>\n",
       "      <td>Primary</td>\n",
       "      <td>6.54543</td>\n",
       "      <td>10.66193</td>\n",
       "      <td>Operational</td>\n",
       "      <td>Registered</td>\n",
       "      <td>Licensed</td>\n",
       "      <td>2018-01-03 01:01:01</td>\n",
       "      <td>2019-10-18 08:55:01</td>\n",
       "    </tr>\n",
       "    <tr>\n",
       "      <th>3</th>\n",
       "      <td>Kaduna</td>\n",
       "      <td>Birnin Gwari</td>\n",
       "      <td>Randagi</td>\n",
       "      <td>54491097</td>\n",
       "      <td>18/01/1/1/1/0045</td>\n",
       "      <td>Anguwar Baduku Health Clinic</td>\n",
       "      <td>2000-01-01 00:00:00</td>\n",
       "      <td>Public</td>\n",
       "      <td>Primary</td>\n",
       "      <td>NaN</td>\n",
       "      <td>NaN</td>\n",
       "      <td>Closed (Temporary)</td>\n",
       "      <td>Unknown</td>\n",
       "      <td>Unknown</td>\n",
       "      <td>2018-01-04 01:01:01</td>\n",
       "      <td>2019-10-18 08:51:16</td>\n",
       "    </tr>\n",
       "    <tr>\n",
       "      <th>4</th>\n",
       "      <td>Kaduna</td>\n",
       "      <td>Birnin Gwari</td>\n",
       "      <td>Magajin Gari 2</td>\n",
       "      <td>84563688</td>\n",
       "      <td>18/01/1/1/1/0003</td>\n",
       "      <td>Awaro Health Clinic</td>\n",
       "      <td>2000-01-01 00:00:00</td>\n",
       "      <td>Public</td>\n",
       "      <td>Primary</td>\n",
       "      <td>6.60406</td>\n",
       "      <td>10.70954</td>\n",
       "      <td>Operational</td>\n",
       "      <td>Registered</td>\n",
       "      <td>Licensed</td>\n",
       "      <td>2018-01-05 01:01:01</td>\n",
       "      <td>2019-10-28 12:07:15</td>\n",
       "    </tr>\n",
       "  </tbody>\n",
       "</table>\n",
       "</div>"
      ],
      "text/plain": [
       "    state           lga            ward       uid     facility_code  \\\n",
       "0  Kaduna  Birnin Gwari  Magajin Gari 2  84313191  18/01/1/1/2/0001   \n",
       "1  Kaduna  Birnin Gwari  Magajin Gari 2  45229535  18/01/1/1/1/0052   \n",
       "2  Kaduna  Birnin Gwari  Magajin Gari 1  87588064  18/01/1/1/1/0002   \n",
       "3  Kaduna  Birnin Gwari         Randagi  54491097  18/01/1/1/1/0045   \n",
       "4  Kaduna  Birnin Gwari  Magajin Gari 2  84563688  18/01/1/1/1/0003   \n",
       "\n",
       "                          facility_name           start_date ownership  \\\n",
       "0     Alumma Nursing And Maternity Home  2000-01-01 00:00:00   Private   \n",
       "1  Anguwan Haladu Priamry Health Centre  1972-01-01 00:00:00    Public   \n",
       "2           Anguwan Shitu Health Clinic  2000-01-01 00:00:00    Public   \n",
       "3          Anguwar Baduku Health Clinic  2000-01-01 00:00:00    Public   \n",
       "4                   Awaro Health Clinic  2000-01-01 00:00:00    Public   \n",
       "\n",
       "  facility_level  longitude  latitude    operation_status registration_status  \\\n",
       "0        Primary    6.64095  10.66508         Operational          Registered   \n",
       "1        Primary    6.53769  10.66777         Operational          Registered   \n",
       "2        Primary    6.54543  10.66193         Operational          Registered   \n",
       "3        Primary        NaN       NaN  Closed (Temporary)             Unknown   \n",
       "4        Primary    6.60406  10.70954         Operational          Registered   \n",
       "\n",
       "  license_status             created        last_updated  \n",
       "0       Licensed 2018-01-01 01:01:01 2019-10-18 08:53:26  \n",
       "1       Licensed 2018-01-02 01:01:01 2019-10-18 08:54:15  \n",
       "2       Licensed 2018-01-03 01:01:01 2019-10-18 08:55:01  \n",
       "3        Unknown 2018-01-04 01:01:01 2019-10-18 08:51:16  \n",
       "4       Licensed 2018-01-05 01:01:01 2019-10-28 12:07:15  "
      ]
     },
     "execution_count": 126,
     "metadata": {},
     "output_type": "execute_result"
    }
   ],
   "source": [
    "\"\"\"\n",
    "Cell generated by Data Wrangler.\n",
    "\"\"\"\n",
    "def clean_data(data):\n",
    "    # Drop duplicate rows across all columns\n",
    "    data = data.drop_duplicates()\n",
    "    # Replace missing values with \"\" in column: 'registration_status'\n",
    "    data = data.fillna({'registration_status': \"Unknown\"})\n",
    "    # Replace missing values with \"Unknown\" in column: 'license_status'\n",
    "    data = data.fillna({'license_status': \"Unknown\"})\n",
    "    # Drop reg_number column\n",
    "    data = data.drop(columns=[\"reg_number\"])\n",
    "    return data\n",
    "\n",
    "data = clean_data(data.copy())\n",
    "data.head()"
   ]
  },
  {
   "cell_type": "code",
   "execution_count": 127,
   "metadata": {},
   "outputs": [
    {
     "name": "stdout",
     "output_type": "stream",
     "text": [
      "<class 'pandas.core.frame.DataFrame'>\n",
      "RangeIndex: 1567 entries, 0 to 1566\n",
      "Data columns (total 16 columns):\n",
      " #   Column               Non-Null Count  Dtype         \n",
      "---  ------               --------------  -----         \n",
      " 0   state                1567 non-null   object        \n",
      " 1   lga                  1567 non-null   object        \n",
      " 2   ward                 1567 non-null   object        \n",
      " 3   uid                  1567 non-null   int64         \n",
      " 4   facility_code        1567 non-null   object        \n",
      " 5   facility_name        1567 non-null   object        \n",
      " 6   start_date           1403 non-null   object        \n",
      " 7   ownership            1567 non-null   object        \n",
      " 8   facility_level       1567 non-null   object        \n",
      " 9   longitude            1441 non-null   float64       \n",
      " 10  latitude             1443 non-null   float64       \n",
      " 11  operation_status     1567 non-null   object        \n",
      " 12  registration_status  1567 non-null   object        \n",
      " 13  license_status       1567 non-null   object        \n",
      " 14  created              1567 non-null   datetime64[ns]\n",
      " 15  last_updated         1567 non-null   datetime64[ns]\n",
      "dtypes: datetime64[ns](2), float64(2), int64(1), object(11)\n",
      "memory usage: 196.0+ KB\n"
     ]
    }
   ],
   "source": [
    "data.info()"
   ]
  },
  {
   "cell_type": "code",
   "execution_count": 128,
   "metadata": {},
   "outputs": [
    {
     "data": {
      "text/html": [
       "<div>\n",
       "<style scoped>\n",
       "    .dataframe tbody tr th:only-of-type {\n",
       "        vertical-align: middle;\n",
       "    }\n",
       "\n",
       "    .dataframe tbody tr th {\n",
       "        vertical-align: top;\n",
       "    }\n",
       "\n",
       "    .dataframe thead th {\n",
       "        text-align: right;\n",
       "    }\n",
       "</style>\n",
       "<table border=\"1\" class=\"dataframe\">\n",
       "  <thead>\n",
       "    <tr style=\"text-align: right;\">\n",
       "      <th></th>\n",
       "      <th>uid</th>\n",
       "      <th>longitude</th>\n",
       "      <th>latitude</th>\n",
       "      <th>created</th>\n",
       "      <th>last_updated</th>\n",
       "    </tr>\n",
       "  </thead>\n",
       "  <tbody>\n",
       "    <tr>\n",
       "      <th>count</th>\n",
       "      <td>1.567000e+03</td>\n",
       "      <td>1441.000000</td>\n",
       "      <td>1443.000000</td>\n",
       "      <td>1567</td>\n",
       "      <td>1567</td>\n",
       "    </tr>\n",
       "    <tr>\n",
       "      <th>mean</th>\n",
       "      <td>4.992963e+07</td>\n",
       "      <td>7.837609</td>\n",
       "      <td>10.353312</td>\n",
       "      <td>2020-02-23 01:01:00.999999744</td>\n",
       "      <td>2019-08-24 01:39:41.999999744</td>\n",
       "    </tr>\n",
       "    <tr>\n",
       "      <th>min</th>\n",
       "      <td>1.244060e+07</td>\n",
       "      <td>2.483000</td>\n",
       "      <td>4.004520</td>\n",
       "      <td>2018-01-01 01:01:01</td>\n",
       "      <td>2018-01-01 01:01:01</td>\n",
       "    </tr>\n",
       "    <tr>\n",
       "      <th>25%</th>\n",
       "      <td>3.190583e+07</td>\n",
       "      <td>7.457880</td>\n",
       "      <td>9.702000</td>\n",
       "      <td>2019-01-27 13:01:01</td>\n",
       "      <td>2019-10-29 10:53:28.500000</td>\n",
       "    </tr>\n",
       "    <tr>\n",
       "      <th>50%</th>\n",
       "      <td>5.003841e+07</td>\n",
       "      <td>7.864430</td>\n",
       "      <td>10.503750</td>\n",
       "      <td>2020-02-23 01:01:01</td>\n",
       "      <td>2019-10-29 20:49:58</td>\n",
       "    </tr>\n",
       "    <tr>\n",
       "      <th>75%</th>\n",
       "      <td>6.769134e+07</td>\n",
       "      <td>8.273440</td>\n",
       "      <td>10.987150</td>\n",
       "      <td>2021-03-20 13:01:01</td>\n",
       "      <td>2019-10-30 11:06:32.500000</td>\n",
       "    </tr>\n",
       "    <tr>\n",
       "      <th>max</th>\n",
       "      <td>8.764126e+07</td>\n",
       "      <td>9.874620</td>\n",
       "      <td>13.867000</td>\n",
       "      <td>2022-04-16 01:01:01</td>\n",
       "      <td>2023-01-26 16:59:04</td>\n",
       "    </tr>\n",
       "    <tr>\n",
       "      <th>std</th>\n",
       "      <td>2.135968e+07</td>\n",
       "      <td>0.614498</td>\n",
       "      <td>0.782395</td>\n",
       "      <td>NaN</td>\n",
       "      <td>NaN</td>\n",
       "    </tr>\n",
       "  </tbody>\n",
       "</table>\n",
       "</div>"
      ],
      "text/plain": [
       "                uid    longitude     latitude                        created  \\\n",
       "count  1.567000e+03  1441.000000  1443.000000                           1567   \n",
       "mean   4.992963e+07     7.837609    10.353312  2020-02-23 01:01:00.999999744   \n",
       "min    1.244060e+07     2.483000     4.004520            2018-01-01 01:01:01   \n",
       "25%    3.190583e+07     7.457880     9.702000            2019-01-27 13:01:01   \n",
       "50%    5.003841e+07     7.864430    10.503750            2020-02-23 01:01:01   \n",
       "75%    6.769134e+07     8.273440    10.987150            2021-03-20 13:01:01   \n",
       "max    8.764126e+07     9.874620    13.867000            2022-04-16 01:01:01   \n",
       "std    2.135968e+07     0.614498     0.782395                            NaN   \n",
       "\n",
       "                        last_updated  \n",
       "count                           1567  \n",
       "mean   2019-08-24 01:39:41.999999744  \n",
       "min              2018-01-01 01:01:01  \n",
       "25%       2019-10-29 10:53:28.500000  \n",
       "50%              2019-10-29 20:49:58  \n",
       "75%       2019-10-30 11:06:32.500000  \n",
       "max              2023-01-26 16:59:04  \n",
       "std                              NaN  "
      ]
     },
     "execution_count": 128,
     "metadata": {},
     "output_type": "execute_result"
    }
   ],
   "source": [
    "data.describe()"
   ]
  },
  {
   "cell_type": "code",
   "execution_count": 129,
   "metadata": {},
   "outputs": [
    {
     "data": {
      "text/plain": [
       "facility_name\n",
       "Alheri Health Clinic                                       2\n",
       "Barwa Health Clinic                                        2\n",
       "Alheri Clinic                                              2\n",
       "Gora Health Clinic                                         2\n",
       "Kunkumi Health Clinic                                      2\n",
       "                                                          ..\n",
       "Tanda Health Clinic                                        1\n",
       "Takau Primary Health Centre                                1\n",
       "Tajak Health Clinic                                        1\n",
       "Sir Partrict Ibrahim Yakowa Memorial Hospital Kafanchan    1\n",
       "Zaria Clinic and medical centre Tudun Wada                 1\n",
       "Name: count, Length: 1546, dtype: int64"
      ]
     },
     "execution_count": 129,
     "metadata": {},
     "output_type": "execute_result"
    }
   ],
   "source": [
    "data[\"facility_name\"].value_counts()"
   ]
  },
  {
   "cell_type": "code",
   "execution_count": 130,
   "metadata": {},
   "outputs": [
    {
     "data": {
      "text/plain": [
       "array(['Birnin Gwari', 'Chikun', 'Giwa', 'Igabi', 'Ikara', 'jaba',\n",
       "       \"Jema'a\", 'Kachia', 'Kaduna North', 'Kaduna South', 'Kagarko',\n",
       "       'Kajuru', 'Kaura', 'Kauru', 'Kubau', 'Kudan', 'Lere', 'Makarfi',\n",
       "       'Sabon Gari', 'Sanga', 'Soba', 'Zangon Kataf', 'Zaria'],\n",
       "      dtype=object)"
      ]
     },
     "execution_count": 130,
     "metadata": {},
     "output_type": "execute_result"
    }
   ],
   "source": [
    "data[\"lga\"].unique()"
   ]
  },
  {
   "cell_type": "code",
   "execution_count": 131,
   "metadata": {},
   "outputs": [],
   "source": [
    "mixed_up_start_dates = data[\"start_date\"][data[\"start_date\"].astype(str).str.contains(\"/\")].to_list()"
   ]
  },
  {
   "cell_type": "code",
   "execution_count": 132,
   "metadata": {},
   "outputs": [],
   "source": [
    "correct_dates = [\"1/1/2000\", \"1/6/2013\", \"10/12/2003\", \"2/22/1990\", \"12/6/2008\", \"9/2/2000\", \"1/1/2019\"]\n",
    "\n",
    "for i in range(len(mixed_up_start_dates)):\n",
    "    data.loc[data[\"start_date\"].isin([mixed_up_start_dates[i]]), \"start_date\"] = correct_dates[i]\n",
    "\n",
    "data[\"start_date\"] = pd.to_datetime(data[\"start_date\"])"
   ]
  },
  {
   "cell_type": "code",
   "execution_count": 133,
   "metadata": {},
   "outputs": [],
   "source": [
    "import random\n",
    "\n",
    "def generate_random_dates():\n",
    "    month = random.randint(1, 12)\n",
    "    day = random.randint(1, 28)  # Adjusted for leap years\n",
    "    return pd.to_datetime(f\"2001-{month}-{day}\")\n",
    "\n",
    "missing_dates_indices = data['start_date'].isnull()\n",
    "random_dates = [generate_random_dates() for _ in range(data['start_date'].isnull().sum())]\n",
    "data.loc[missing_dates_indices, 'start_date'] = random_dates\n"
   ]
  },
  {
   "cell_type": "code",
   "execution_count": 134,
   "metadata": {},
   "outputs": [],
   "source": [
    "data.dropna(subset=['longitude', 'latitude'], inplace=True)"
   ]
  },
  {
   "cell_type": "code",
   "execution_count": null,
   "metadata": {},
   "outputs": [],
   "source": []
  }
 ],
 "metadata": {
  "kernelspec": {
   "display_name": "base",
   "language": "python",
   "name": "python3"
  },
  "language_info": {
   "codemirror_mode": {
    "name": "ipython",
    "version": 3
   },
   "file_extension": ".py",
   "mimetype": "text/x-python",
   "name": "python",
   "nbconvert_exporter": "python",
   "pygments_lexer": "ipython3",
   "version": "3.11.7"
  }
 },
 "nbformat": 4,
 "nbformat_minor": 2
}
